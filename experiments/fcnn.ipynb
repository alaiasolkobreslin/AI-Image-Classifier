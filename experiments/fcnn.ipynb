{
 "cells": [
  {
   "cell_type": "code",
   "execution_count": 1,
   "metadata": {},
   "outputs": [
    {
     "name": "stdout",
     "output_type": "stream",
     "text": [
      "3.8.5 (default, Sep  4 2020, 02:22:02) \n",
      "[Clang 10.0.0 ]\n"
     ]
    }
   ],
   "source": [
    "import sys\n",
    "print(sys.version)"
   ]
  },
  {
   "cell_type": "code",
   "execution_count": 10,
   "metadata": {},
   "outputs": [],
   "source": [
    "import os\n",
    "import numpy as np\n",
    "import torch\n",
    "from PIL import Image\n",
    "from torch import nn, optim\n",
    "import torchvision\n",
    "from torchvision import datasets, transforms\n",
    "import matplotlib as mpl\n",
    "from matplotlib import pyplot as plt\n",
    "from sklearn.model_selection import train_test_split\n",
    "from sklearn.preprocessing import StandardScaler"
   ]
  },
  {
   "cell_type": "code",
   "execution_count": 17,
   "metadata": {},
   "outputs": [],
   "source": [
    "# Convert images to tensors and add labels\n",
    "\n",
    "real_cats_dir = '../data/aesthetic_6k/cat_aesthetic'\n",
    "generated_cats_dir = '../data/cat_generated_aesthetic'\n",
    "convert_tensor = transforms.ToTensor()\n",
    "\n",
    "def get_images(dir, label):\n",
    "    images = []\n",
    "    for filename in os.listdir(dir):\n",
    "        f = os.path.join(dir, filename)\n",
    "        if os.path.isfile(f):\n",
    "            img = Image.open(f)\n",
    "            images.append((convert_tensor(img), label))\n",
    "    return images\n",
    "\n",
    "# label 0 indicates real image\n",
    "real_images = get_images(real_cats_dir, 0)\n",
    "# label 1 indicates AI image\n",
    "generated_images = get_images(generated_cats_dir, 1)"
   ]
  },
  {
   "cell_type": "code",
   "execution_count": 22,
   "metadata": {},
   "outputs": [],
   "source": [
    "# Combine real and generated for full dataset\n",
    "# Split into training and testing sets\n",
    "\n",
    "full_dataset = real_images + generated_images\n",
    "\n",
    "train_size = int(0.8 * len(full_dataset))\n",
    "test_size = len(full_dataset) - train_size\n",
    "train_dataset, test_dataset = torch.utils.data.random_split(full_dataset, [train_size, test_size])\n",
    "\n",
    "trainloader = torch.utils.data.DataLoader(train_dataset, batch_size=16, shuffle=True)\n",
    "testloader = torch.utils.data.DataLoader(test_dataset, batch_size=16, shuffle=True)"
   ]
  }
 ],
 "metadata": {
  "kernelspec": {
   "display_name": "Python 3.8.5 ('base')",
   "language": "python",
   "name": "python3"
  },
  "language_info": {
   "codemirror_mode": {
    "name": "ipython",
    "version": 3
   },
   "file_extension": ".py",
   "mimetype": "text/x-python",
   "name": "python",
   "nbconvert_exporter": "python",
   "pygments_lexer": "ipython3",
   "version": "3.8.5"
  },
  "orig_nbformat": 4,
  "vscode": {
   "interpreter": {
    "hash": "7351d9c9f6bb9e6beab6a4b96462f975a0411cbffa515e46baf7e578fe674395"
   }
  }
 },
 "nbformat": 4,
 "nbformat_minor": 2
}
