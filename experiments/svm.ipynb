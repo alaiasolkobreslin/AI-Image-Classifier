{
  "cells": [
    {
      "cell_type": "code",
      "execution_count": 1,
      "metadata": {
        "id": "98pamIokNJfV"
      },
      "outputs": [],
      "source": [
        "import os\n",
        "from sklearn.svm import SVC\n",
        "from sklearn.decomposition import PCA as RandomizedPCA\n",
        "from sklearn.pipeline import make_pipeline\n",
        "from skimage.io import imread\n",
        "import numpy as np\n",
        "import pandas as pd\n",
        "from sklearn.model_selection import GridSearchCV\n",
        "from sklearn.model_selection import train_test_split\n",
        "from sklearn.metrics import accuracy_score"
      ]
    },
    {
      "cell_type": "code",
      "execution_count": 9,
      "metadata": {
        "id": "1iq_WWXMOGJP"
      },
      "outputs": [],
      "source": [
        "dir = '.../data/'\n",
        "os.chdir(dir)"
      ]
    },
    {
      "cell_type": "code",
      "execution_count": 4,
      "metadata": {
        "colab": {
          "base_uri": "https://localhost:8080/"
        },
        "id": "cVXYlaUYNwPx",
        "outputId": "3ec017b0-9d1a-4c5a-e264-5d1fd0de8249"
      },
      "outputs": [
        {
          "output_type": "stream",
          "name": "stdout",
          "text": [
            "loading... category : real\n",
            "loaded category:real successfully\n",
            "loading... category : generated_\n",
            "loaded category:generated_ successfully\n"
          ]
        }
      ],
      "source": [
        "labels =['real','generated_']\n",
        "flat_data_arr=[] #input array\n",
        "target_arr=[] #output array\n",
        "\n",
        "#path which contains all the categories of images\n",
        "for i in labels:    \n",
        "    print(f'loading... category : {i}')\n",
        "    \n",
        "    path = os.path.join(dir,i)\n",
        "    \n",
        "    for img in os.listdir(path)[:3000]:\n",
        "        img_array = imread(os.path.join(path,img))\n",
        "        flat_data_arr.append(img_array.flatten())\n",
        "        target_arr.append(labels.index(i))\n",
        "    \n",
        "    print(f'loaded category:{i} successfully')\n",
        "\n",
        "flat_data  = np.array(flat_data_arr)\n",
        "target = np.array(target_arr)\n",
        "df = pd.DataFrame(flat_data) #dataframe\n",
        "df['Target'] = target\n",
        "x = df.iloc[:,:-1] #input data \n",
        "y = df.iloc[:,-1] #output data"
      ]
    },
    {
      "cell_type": "code",
      "execution_count": 5,
      "metadata": {
        "id": "-7xC6quwRu9J"
      },
      "outputs": [],
      "source": [
        "pca = RandomizedPCA(n_components=150, whiten=True, random_state=42)\n",
        "svc = SVC(kernel='rbf', class_weight='balanced', C=10)\n",
        "\n",
        "model = make_pipeline(pca,svc)"
      ]
    },
    {
      "cell_type": "code",
      "execution_count": 6,
      "metadata": {
        "colab": {
          "base_uri": "https://localhost:8080/"
        },
        "id": "5u4Dvej1T_ir",
        "outputId": "bbc3dae5-8c1a-418c-ad07-902d68a21dc4"
      },
      "outputs": [
        {
          "output_type": "stream",
          "name": "stdout",
          "text": [
            "CPU times: user 7min 23s, sys: 42.6 s, total: 8min 6s\n",
            "Wall time: 2min 25s\n"
          ]
        },
        {
          "output_type": "execute_result",
          "data": {
            "text/plain": [
              "Pipeline(steps=[('pca', PCA(n_components=150, random_state=42, whiten=True)),\n",
              "                ('svc', SVC(C=10, class_weight='balanced'))])"
            ]
          },
          "metadata": {},
          "execution_count": 6
        }
      ],
      "source": [
        "x_train, x_test, y_train, y_test = train_test_split(x,y,random_state=77,stratify=y, shuffle=True)\n",
        "\n",
        "%time model.fit(x_train, y_train)"
      ]
    },
    {
      "cell_type": "code",
      "execution_count": 7,
      "metadata": {
        "id": "i4jualZyUHUV",
        "colab": {
          "base_uri": "https://localhost:8080/"
        },
        "outputId": "f59c87ef-670a-41c4-e210-f5e4d76d2901"
      },
      "outputs": [
        {
          "output_type": "stream",
          "name": "stdout",
          "text": [
            "Model Accuracy: 77.0\n"
          ]
        }
      ],
      "source": [
        "y_pred=model.predict(x_test)\n",
        "print(f\"Model Accuracy: {accuracy_score(y_pred,y_test)*100}\")"
      ]
    }
  ],
  "metadata": {
    "colab": {
      "machine_shape": "hm",
      "provenance": []
    },
    "gpuClass": "standard",
    "kernelspec": {
      "display_name": "Python 3",
      "name": "python3"
    },
    "language_info": {
      "name": "python"
    }
  },
  "nbformat": 4,
  "nbformat_minor": 0
}